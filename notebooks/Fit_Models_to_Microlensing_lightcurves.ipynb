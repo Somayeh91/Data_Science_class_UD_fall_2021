{
  "nbformat": 4,
  "nbformat_minor": 0,
  "metadata": {
    "colab": {
      "name": "Fit_Models_to_Microlensing_lightcurves.ipynb",
      "provenance": [],
      "collapsed_sections": []
    },
    "kernelspec": {
      "name": "python3",
      "display_name": "Python 3"
    },
    "language_info": {
      "name": "python"
    }
  },
  "cells": [
    {
      "cell_type": "markdown",
      "metadata": {
        "id": "9-ExbzxBc83e"
      },
      "source": [
        "# Fitting two models to Microlensing photometry\n",
        "\n",
        "In this exercise, we will fit a Gaussian distribution and a Cauchy distribution to a light curve of a single-lens microlensing event. \n",
        "\n",
        "    "
      ]
    },
    {
      "cell_type": "markdown",
      "metadata": {
        "id": "HEHwDdSVdobY"
      },
      "source": [
        "# initial imports"
      ]
    },
    {
      "cell_type": "code",
      "metadata": {
        "id": "zMqForGqPNeJ"
      },
      "source": [
        "!pip install emcee\n",
        "!pip install corner"
      ],
      "execution_count": null,
      "outputs": []
    },
    {
      "cell_type": "markdown",
      "metadata": {
        "id": "k2NjinOJH7qE"
      },
      "source": [
        "We will also need these packags: pandas, matplotlib, numpy, emcee, corner"
      ]
    },
    {
      "cell_type": "code",
      "metadata": {
        "id": "H3QKqM6Ic1Vm"
      },
      "source": [
        ".\n",
        ".\n",
        ".\n",
        ".\n",
        "from scipy.optimize import minimize\n",
        "%matplotlib inline"
      ],
      "execution_count": null,
      "outputs": []
    },
    {
      "cell_type": "markdown",
      "metadata": {
        "id": "9Mw-0Lsxd6kl"
      },
      "source": [
        "# Read in the input dataset"
      ]
    },
    {
      "cell_type": "code",
      "metadata": {
        "id": "StQD8__id0jv"
      },
      "source": [
        "# Path to OGLE data: https://raw.githubusercontent.com/Somayeh91/Data_Science_class_UD_fall_2021/main/data/OGLE_2012_BLG_1323.csv\n",
        "# Path to Roman data: https://raw.githubusercontent.com/Somayeh91/Data_Science_class_UD_fall_2021/main/data/mag.dcnormffp_0_82_1902.det.lc.W149.csv \n"
      ],
      "execution_count": null,
      "outputs": []
    },
    {
      "cell_type": "markdown",
      "metadata": {
        "id": "YO-UyGfTLQen"
      },
      "source": [
        "#Visualize the data"
      ]
    },
    {
      "cell_type": "code",
      "metadata": {
        "id": "ZHwYHw4in893"
      },
      "source": [
        "plt.figure(figsize=(15,9))\n",
        ".\n",
        ".\n",
        ".\n",
        ".\n"
      ],
      "execution_count": null,
      "outputs": []
    },
    {
      "cell_type": "markdown",
      "metadata": {
        "id": "0-dHSwULN0Y-"
      },
      "source": [
        "# Define the PSPL model and the Cauchy distributions\n"
      ]
    },
    {
      "cell_type": "markdown",
      "metadata": {
        "id": "qP8YzctqBd_M"
      },
      "source": [
        "PSPL model:\n",
        "\n",
        "$F(t) = f_s \\times A(t) + (1-f_s)$\n",
        "\n",
        "$A(t) = \\frac{u(t)^2 +2}{u(t)\\times \\sqrt{u(t)^2 + 4}}$\n",
        "\n",
        "$u(t) = \\sqrt {{u_0}^2+ ({\\frac {t-t_0}{t_E}})^2}$\n",
        "\n",
        "Cauchy model:\n",
        "\n",
        "$C(t) = 1+ \\frac {amp}{{1+|\\frac{t-t_0}{\\sigma}|}^{2b}}$\n"
      ]
    },
    {
      "cell_type": "code",
      "metadata": {
        "id": "-cmYSDf0o_Xb"
      },
      "source": [
        ".\n",
        ".\n",
        ".\n",
        "."
      ],
      "execution_count": null,
      "outputs": []
    },
    {
      "cell_type": "code",
      "metadata": {
        "id": "qHE9crwvHlCV"
      },
      "source": [
        "#Unit test\n",
        "\n"
      ],
      "execution_count": null,
      "outputs": []
    },
    {
      "cell_type": "markdown",
      "metadata": {
        "id": "cof-Qo_vNwDQ"
      },
      "source": [
        "# Fit the two functions to the data by minimizing an objective function \n",
        "\n",
        "\n",
        "Use the l1 function as your objective function."
      ]
    },
    {
      "cell_type": "code",
      "metadata": {
        "id": "7EwmUWZMNydt"
      },
      "source": [
        "# Fitting the PSPL function to data by minimizing L1\n",
        "\n",
        ".\n",
        ".\n",
        ".\n",
        "."
      ],
      "execution_count": null,
      "outputs": []
    },
    {
      "cell_type": "code",
      "metadata": {
        "id": "gwXU6zoJNygv"
      },
      "source": [
        "# Fitting the Cauchy function to data by minimizing L1\n",
        "\n",
        ".\n",
        ".\n",
        ".\n",
        "."
      ],
      "execution_count": null,
      "outputs": []
    },
    {
      "cell_type": "code",
      "metadata": {
        "id": "bPS088ApOHd4"
      },
      "source": [
        "# Visualizing the results\n",
        "\n",
        "plt.figure(figsize=(15,9))\n",
        "\n",
        ".\n",
        ".\n",
        ".\n",
        "."
      ],
      "execution_count": null,
      "outputs": []
    },
    {
      "cell_type": "markdown",
      "metadata": {
        "id": "aSuAAodlOpuK"
      },
      "source": [
        "# Fit the two functions to the data by minimizing an objective function \n",
        "\n",
        "\n",
        "Use the l2 function as your objective function."
      ]
    },
    {
      "cell_type": "code",
      "metadata": {
        "id": "ABInH4NaOtej"
      },
      "source": [
        "# Fitting the PSPL function to data by minimizing L2\n",
        "\n",
        ".\n",
        ".\n",
        ".\n",
        "."
      ],
      "execution_count": null,
      "outputs": []
    },
    {
      "cell_type": "code",
      "metadata": {
        "id": "yakwEv9OOtho"
      },
      "source": [
        "# Fitting the Cauchy function to data by minimizing L2\n",
        "\n",
        ".\n",
        ".\n",
        ".\n",
        "."
      ],
      "execution_count": null,
      "outputs": []
    },
    {
      "cell_type": "code",
      "metadata": {
        "id": "L5EvHpv9OtmM"
      },
      "source": [
        "# Visualizing the results\n",
        "\n",
        "plt.figure(figsize=(15,9))\n",
        "\n",
        ".\n",
        ".\n",
        ".\n",
        ".\n"
      ],
      "execution_count": null,
      "outputs": []
    },
    {
      "cell_type": "markdown",
      "metadata": {
        "id": "W1cEvCp1Sqex"
      },
      "source": [
        "# Fit the two functions to the data by minimizing an objective function \n",
        "\n",
        "\n",
        "Use the ${\\chi}^2$ function as your objective function."
      ]
    },
    {
      "cell_type": "code",
      "metadata": {
        "id": "Gbw1PmUjPIhz"
      },
      "source": [
        "# Fitting the PSPL function to data by minimizing the chi-squared function\n",
        "\n",
        "\n",
        ".\n",
        ".\n",
        ".\n",
        "."
      ],
      "execution_count": null,
      "outputs": []
    },
    {
      "cell_type": "code",
      "metadata": {
        "id": "L9NRSnlaZx21"
      },
      "source": [
        "# Fitting the Cauchy function to data by minimizing the chi-squared function\n",
        "\n",
        "\n",
        ".\n",
        ".\n",
        ".\n",
        "."
      ],
      "execution_count": null,
      "outputs": []
    },
    {
      "cell_type": "code",
      "metadata": {
        "id": "mIygpsAxa9t_"
      },
      "source": [
        "# Visualizing the results\n",
        "\n",
        "plt.figure(figsize=(15,9))\n",
        "\n",
        ".\n",
        ".\n",
        ".\n",
        ".\n"
      ],
      "execution_count": null,
      "outputs": []
    },
    {
      "cell_type": "markdown",
      "metadata": {
        "id": "Ki07PR_cBPFB"
      },
      "source": [
        "# Now let's fit a PSPL and a Cauchy with MCMC!\n",
        "\n"
      ]
    },
    {
      "cell_type": "markdown",
      "metadata": {
        "id": "gGsz4SBk0lan"
      },
      "source": [
        "For fitting a PSPL model:"
      ]
    },
    {
      "cell_type": "code",
      "metadata": {
        "id": "3PhkcY84jFDf"
      },
      "source": [
        "# define log likelihood function\n",
        "def log_likelihood....\n",
        "\n",
        ".\n",
        ".\n",
        ".\n",
        ".\n"
      ],
      "execution_count": null,
      "outputs": []
    },
    {
      "cell_type": "code",
      "metadata": {
        "id": "4WQX_OHOjFH7"
      },
      "source": [
        "# define log prior function\n",
        "\n",
        "def log_prior...\n",
        "\n",
        "\n",
        ".\n",
        ".\n",
        ".\n",
        ".\n"
      ],
      "execution_count": null,
      "outputs": []
    },
    {
      "cell_type": "code",
      "metadata": {
        "id": "ygUczaS5jE_0"
      },
      "source": [
        "# define log probability function\n",
        "\n",
        "def log_probability...\n",
        "\n",
        ".\n",
        ".\n",
        ".\n",
        ".\n"
      ],
      "execution_count": null,
      "outputs": []
    },
    {
      "cell_type": "code",
      "metadata": {
        "id": "RW99e8LEjE6P"
      },
      "source": [
        "#initial guess\n",
        "ig = [peak, .1, 0.02, 0.464796]"
      ],
      "execution_count": null,
      "outputs": []
    },
    {
      "cell_type": "code",
      "metadata": {
        "id": "16FlHsd7mxho"
      },
      "source": [
        "#initialize walkers\n",
        "nwalkers = 32\n",
        "ndim = len(ig)"
      ],
      "execution_count": null,
      "outputs": []
    },
    {
      "cell_type": "code",
      "metadata": {
        "id": "7eVrhpldmxxg"
      },
      "source": [
        "pos = np.array(ig) + 1e-4 * np.random.randn(nwalkers, ndim)"
      ],
      "execution_count": null,
      "outputs": []
    },
    {
      "cell_type": "code",
      "metadata": {
        "id": "9f6-HQ9Rmx7Z"
      },
      "source": [
        "pos.shape"
      ],
      "execution_count": null,
      "outputs": []
    },
    {
      "cell_type": "code",
      "metadata": {
        "id": "8nhTcKQ6myAv"
      },
      "source": [
        "sampler = emcee.EnsembleSampler(nwalkers, ndim, log_probability, args=(x, y, s))"
      ],
      "execution_count": null,
      "outputs": []
    },
    {
      "cell_type": "code",
      "metadata": {
        "id": "kwdovHJomyEu"
      },
      "source": [
        "sampler.run_mcmc(pos, 5000, progress=True);"
      ],
      "execution_count": null,
      "outputs": []
    },
    {
      "cell_type": "code",
      "metadata": {
        "id": "yJD5zUMAmyIR"
      },
      "source": [
        "samples = sampler.get_chain()"
      ],
      "execution_count": null,
      "outputs": []
    },
    {
      "cell_type": "code",
      "metadata": {
        "id": "1IBXn4UgmyLw"
      },
      "source": [
        "samples.shape"
      ],
      "execution_count": null,
      "outputs": []
    },
    {
      "cell_type": "code",
      "metadata": {
        "id": "nQ7VjzWtjEpn"
      },
      "source": [
        "flat_samples = sampler.get_chain(discard=100, thin=15, flat=True)"
      ],
      "execution_count": null,
      "outputs": []
    },
    {
      "cell_type": "code",
      "metadata": {
        "id": "m0DP_Gw-jEaa"
      },
      "source": [
        "mcmc = np.zeros((ndim, 3))\n",
        "for i in range(ndim):\n",
        "  mcmc[i] = np.percentile( flat_samples[:,i], [16, 50, 84])\n",
        "params_PSPL = mcmc[:,1]"
      ],
      "execution_count": null,
      "outputs": []
    },
    {
      "cell_type": "code",
      "metadata": {
        "id": "hZIF5E6FjEJU"
      },
      "source": [
        "plt.rcParams[\"font.size\"]= 13\n",
        "fig = corner.corner(\n",
        "    flat_samples, labels=[\"t0\", \"tE\", \"u0\", \"fs\"], truths=mcmc[:,1]);\n"
      ],
      "execution_count": null,
      "outputs": []
    },
    {
      "cell_type": "code",
      "metadata": {
        "id": "tugdoivKI471"
      },
      "source": [
        "fig, axes = plt.subplots(ndim, figsize=(10, 7), sharex=True)\n",
        "samples = sampler.get_chain()\n",
        "\n",
        "for i in range(ndim):\n",
        "    ax = axes[i]\n",
        "    ax.plot(samples[:, :, i], \"k\", alpha=0.3)\n",
        "    ax.set_xlim(0, len(samples))\n",
        "    ax.yaxis.set_label_coords(-0.1, 0.5)\n",
        "\n",
        "axes[-1].set_xlabel(\"step number\");"
      ],
      "execution_count": null,
      "outputs": []
    },
    {
      "cell_type": "code",
      "metadata": {
        "id": "FuKtrsmMJJ4A"
      },
      "source": [
        "# zoom in: the beginning of the chain should be cut\n",
        "fig, axes = plt.subplots(ndim, figsize=(10, 7), sharex=True)\n",
        "samples = sampler.get_chain()\n",
        "\n",
        "for i in range(ndim):\n",
        "    ax = axes[i]\n",
        "    ax.plot(samples[:, :, i], \"k\", alpha=0.3)\n",
        "    ax.set_xlim(0, 100)#len(samples))\n",
        "    ax.yaxis.set_label_coords(-0.1, 0.5)\n",
        "\n",
        "axes[-1].set_xlabel(\"step number\");"
      ],
      "execution_count": null,
      "outputs": []
    },
    {
      "cell_type": "code",
      "metadata": {
        "id": "M2DtobChJXPA"
      },
      "source": [
        ""
      ],
      "execution_count": null,
      "outputs": []
    },
    {
      "cell_type": "markdown",
      "metadata": {
        "id": "UMB4DUFKK2rt"
      },
      "source": [
        "For fitting a Cauchy distribution:"
      ]
    },
    {
      "cell_type": "code",
      "metadata": {
        "id": "RQuvGTDFK2r2"
      },
      "source": [
        "def log_prior....\n"
      ],
      "execution_count": null,
      "outputs": []
    },
    {
      "cell_type": "code",
      "metadata": {
        "id": "3fM9Cwa7K2r2"
      },
      "source": [
        "def log_likelihood...."
      ],
      "execution_count": null,
      "outputs": []
    },
    {
      "cell_type": "code",
      "metadata": {
        "id": "oUTKadpoK2r2"
      },
      "source": [
        "def log_probability...."
      ],
      "execution_count": null,
      "outputs": []
    },
    {
      "cell_type": "code",
      "metadata": {
        "id": "yS_g9t4DK2r2"
      },
      "source": [
        "#initial guess\n",
        "ig = [max(y), peak, 1, .1]"
      ],
      "execution_count": null,
      "outputs": []
    },
    {
      "cell_type": "code",
      "metadata": {
        "id": "P-kdUOK7K2r3"
      },
      "source": [
        "#initialize walkers\n",
        "nwalkers = 32\n",
        "ndim = len(ig)"
      ],
      "execution_count": null,
      "outputs": []
    },
    {
      "cell_type": "code",
      "metadata": {
        "id": "3Ai5u81GK2r3"
      },
      "source": [
        "pos = np.array(ig) + 1e-4 * np.random.randn(nwalkers, ndim)"
      ],
      "execution_count": null,
      "outputs": []
    },
    {
      "cell_type": "code",
      "metadata": {
        "id": "d_Mt6IXaK2r3"
      },
      "source": [
        "pos.shape"
      ],
      "execution_count": null,
      "outputs": []
    },
    {
      "cell_type": "code",
      "metadata": {
        "id": "WO0wUjvcK2r3"
      },
      "source": [
        "sampler = emcee.EnsembleSampler(nwalkers, ndim, log_probability, args=(x, y, s))"
      ],
      "execution_count": null,
      "outputs": []
    },
    {
      "cell_type": "code",
      "metadata": {
        "id": "y8Gk1jCGK2r3"
      },
      "source": [
        "sampler.run_mcmc(pos, 5000, progress=True);"
      ],
      "execution_count": null,
      "outputs": []
    },
    {
      "cell_type": "code",
      "metadata": {
        "id": "d-GavYP4K2r3"
      },
      "source": [
        "samples = sampler.get_chain()"
      ],
      "execution_count": null,
      "outputs": []
    },
    {
      "cell_type": "code",
      "metadata": {
        "id": "91me1uufK2r4"
      },
      "source": [
        "samples.shape"
      ],
      "execution_count": null,
      "outputs": []
    },
    {
      "cell_type": "code",
      "metadata": {
        "id": "S2CVZzo_K2r4"
      },
      "source": [
        "flat_samples = sampler.get_chain(discard=100, thin=15, flat=True)"
      ],
      "execution_count": null,
      "outputs": []
    },
    {
      "cell_type": "code",
      "metadata": {
        "id": "j3oN_GZBK2r4"
      },
      "source": [
        "mcmc = np.zeros((ndim, 3))\n",
        "for i in range(ndim):\n",
        "  mcmc[i] = np.percentile( flat_samples[:,i], [16, 50, 84])\n",
        "params_cauchy = mcmc[:,1]"
      ],
      "execution_count": null,
      "outputs": []
    },
    {
      "cell_type": "code",
      "metadata": {
        "id": "Lnj6vDBsK2r4"
      },
      "source": [
        "\n",
        "plt.rcParams[\"font.size\"]= 13\n",
        "fig = corner.corner(\n",
        "    flat_samples, labels=[\"Amplitude\",\"x0\",\"flattness\",\"sigma\"], truths=mcmc[:,1]);\n"
      ],
      "execution_count": null,
      "outputs": []
    },
    {
      "cell_type": "code",
      "metadata": {
        "id": "AqobeDpUK2r4"
      },
      "source": [
        "fig, axes = plt.subplots(ndim, figsize=(10, 7), sharex=True)\n",
        "samples = sampler.get_chain()\n",
        "\n",
        "for i in range(ndim):\n",
        "    ax = axes[i]\n",
        "    ax.plot(samples[:, :, i], \"k\", alpha=0.3)\n",
        "    ax.set_xlim(0, len(samples))\n",
        "    ax.yaxis.set_label_coords(-0.1, 0.5)\n",
        "\n",
        "axes[-1].set_xlabel(\"step number\");"
      ],
      "execution_count": null,
      "outputs": []
    },
    {
      "cell_type": "code",
      "metadata": {
        "id": "Dr4_rsHGK2r4"
      },
      "source": [
        "# zoom in: the beginning of the chain should be cut\n",
        "fig, axes = plt.subplots(ndim, figsize=(10, 7), sharex=True)\n",
        "samples = sampler.get_chain()\n",
        "\n",
        "for i in range(ndim):\n",
        "    ax = axes[i]\n",
        "    ax.plot(samples[:, :, i], \"k\", alpha=0.3)\n",
        "    ax.set_xlim(0, 100)#len(samples))\n",
        "    ax.yaxis.set_label_coords(-0.1, 0.5)\n",
        "\n",
        "axes[-1].set_xlabel(\"step number\");"
      ],
      "execution_count": null,
      "outputs": []
    },
    {
      "cell_type": "code",
      "metadata": {
        "id": "qj04beKtJRwP"
      },
      "source": [
        "plt.figure(figsize=(15,9))\n",
        "dt = .1\n",
        "x_new = np.linspace(min(x), max(x), len(x)*100)\n",
        "plt.errorbar(df.t,df.A, yerr=df.A_err, fmt = '-o', ms=16,color='grey', zorder = -10, label = 'data')\n",
        "plt.plot(x_new, PSPL(x_new, *params_PSPL),linewidth=3,color='red', label = 'PSPL fit')\n",
        "plt.plot(x_new, cauchy(x_new, *params_cauchy),linewidth=3,color = 'orange', label = 'Cauchy fit')\n",
        "peak = df.t[np.argmax(df.A)]\n",
        "plt.xlim(peak-dt,peak+dt)\n",
        "plt.xlabel('Time-peak (days)')\n",
        "plt.ylabel('Magnification')\n",
        "plt.legend()"
      ],
      "execution_count": null,
      "outputs": []
    },
    {
      "cell_type": "code",
      "metadata": {
        "id": "KEZ6KO14tANC"
      },
      "source": [
        ""
      ],
      "execution_count": null,
      "outputs": []
    }
  ]
}